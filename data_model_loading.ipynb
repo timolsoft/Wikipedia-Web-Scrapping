{
 "cells": [
  {
   "cell_type": "code",
   "execution_count": 115,
   "metadata": {},
   "outputs": [],
   "source": [
    "import pandas as pd\n",
    "import psycopg2\n",
    "from sqlalchemy import create_engine"
   ]
  },
  {
   "cell_type": "code",
   "execution_count": 116,
   "metadata": {},
   "outputs": [],
   "source": [
    "raw_data_new= pd.read_csv('cleaned_university_data.csv')"
   ]
  },
  {
   "cell_type": "code",
   "execution_count": 118,
   "metadata": {},
   "outputs": [
    {
     "data": {
      "text/plain": [
       "array(['Hybrid', 'In-Person', 'Distance'], dtype=object)"
      ]
     },
     "execution_count": 118,
     "metadata": {},
     "output_type": "execute_result"
    }
   ],
   "source": [
    "raw_data_new['delivery_method'].unique()"
   ]
  },
  {
   "cell_type": "code",
   "execution_count": 119,
   "metadata": {},
   "outputs": [],
   "source": [
    "conn = psycopg2.connect(\n",
    "host=\"localhost\",\n",
    "database=\"db\",\n",
    "user=\"user\",\n",
    "password=\"password\",\n",
    "port=5435\n",
    ")"
   ]
  },
  {
   "cell_type": "code",
   "execution_count": 120,
   "metadata": {},
   "outputs": [],
   "source": [
    "cursor = conn.cursor()"
   ]
  },
  {
   "cell_type": "code",
   "execution_count": 121,
   "metadata": {},
   "outputs": [
    {
     "data": {
      "text/plain": [
       "Index(['rank', 'institution', 'year_founded', 'affiliation', 'delivery_method',\n",
       "       'enrollment', 'city', 'country', 'continent', 'link'],\n",
       "      dtype='object')"
      ]
     },
     "execution_count": 121,
     "metadata": {},
     "output_type": "execute_result"
    }
   ],
   "source": [
    "raw_data_new.columns"
   ]
  },
  {
   "cell_type": "code",
   "execution_count": 122,
   "metadata": {},
   "outputs": [],
   "source": [
    "delivery_method_dim= raw_data_new[['delivery_method']].drop_duplicates()\n",
    "delivery_method_dim['delivery_method_id'] = range(1, len(delivery_method_dim) + 1)\n",
    "delivery_method_dim = delivery_method_dim [['delivery_method_id', 'delivery_method']]"
   ]
  },
  {
   "cell_type": "code",
   "execution_count": null,
   "metadata": {},
   "outputs": [],
   "source": [
    "institution_dim= raw_data_new[['institution','year_founded','affiliation','link']].drop_duplicates()\n",
    "institution_dim['institution_id'] = range(1, len(institution_dim) + 1)\n",
    "institution_dim = institution_dim [['institution_id','institution','year_founded','affiliation','link']]\n",
    "institution_dim"
   ]
  },
  {
   "cell_type": "code",
   "execution_count": 139,
   "metadata": {},
   "outputs": [
    {
     "name": "stdout",
     "output_type": "stream",
     "text": [
      "<class 'pandas.core.frame.DataFrame'>\n",
      "RangeIndex: 90 entries, 0 to 89\n",
      "Data columns (total 5 columns):\n",
      " #   Column          Non-Null Count  Dtype \n",
      "---  ------          --------------  ----- \n",
      " 0   institution_id  90 non-null     int64 \n",
      " 1   institution     90 non-null     object\n",
      " 2   year_founded    90 non-null     int64 \n",
      " 3   affiliation     90 non-null     object\n",
      " 4   link            90 non-null     object\n",
      "dtypes: int64(2), object(3)\n",
      "memory usage: 3.6+ KB\n"
     ]
    }
   ],
   "source": [
    "institution_dim.info()"
   ]
  },
  {
   "cell_type": "code",
   "execution_count": null,
   "metadata": {},
   "outputs": [],
   "source": [
    "location_dim= raw_data_new[['city','country','continent']].drop_duplicates()\n",
    "location_dim['location_id'] = range(1, len(location_dim) + 1)    \n",
    "location_dim = location_dim [['location_id','city','country','continent']]  \n",
    "location_dim\n"
   ]
  },
  {
   "cell_type": "code",
   "execution_count": null,
   "metadata": {},
   "outputs": [],
   "source": [
    "university_fact_dm = raw_data_new[['rank', 'enrollment']]\n",
    "university_fact_dm['university_id'] = range(1, len(university_fact_dm) + 1)\n",
    "university_fact_dm = university_fact_dm [['university_id','rank', 'enrollment']]\n",
    "university_fact_dm  "
   ]
  },
  {
   "cell_type": "code",
   "execution_count": 101,
   "metadata": {},
   "outputs": [
    {
     "data": {
      "text/plain": [
       "<_io.TextIOWrapper name='create_table.sql' mode='r' encoding='cp1252'>"
      ]
     },
     "execution_count": 101,
     "metadata": {},
     "output_type": "execute_result"
    }
   ],
   "source": [
    "create_query_file=open('create_table.sql', 'r')\n",
    "create_query = create_query_file.read()\n",
    "create_query_file"
   ]
  },
  {
   "cell_type": "code",
   "execution_count": null,
   "metadata": {},
   "outputs": [],
   "source": [
    "cursor.execute(create_query)    \n",
    "conn.commit()"
   ]
  },
  {
   "cell_type": "code",
   "execution_count": 113,
   "metadata": {},
   "outputs": [],
   "source": [
    "data_delivery =list(delivery_method_dim.itertuples(index=False, name=None)) \n",
    "merge_delivery_query = open('populate_delivery_method.sql', 'r')\n",
    "merge_query = merge_delivery_query.read()\n"
   ]
  },
  {
   "cell_type": "code",
   "execution_count": 114,
   "metadata": {},
   "outputs": [],
   "source": [
    "cursor.executemany(merge_query, data_delivery)\n",
    "conn.commit()"
   ]
  },
  {
   "cell_type": "code",
   "execution_count": 142,
   "metadata": {},
   "outputs": [],
   "source": [
    "data_institution =list(institution_dim.itertuples(index=False, name=None)) \n",
    "merge_institution_query = open('populate_institution.sql', 'r')\n",
    "merge_query2 = merge_institution_query.read()"
   ]
  },
  {
   "cell_type": "code",
   "execution_count": 140,
   "metadata": {},
   "outputs": [],
   "source": [
    "conn.rollback()"
   ]
  },
  {
   "cell_type": "code",
   "execution_count": 143,
   "metadata": {},
   "outputs": [
    {
     "ename": "InvalidColumnReference",
     "evalue": "there is no unique or exclusion constraint matching the ON CONFLICT specification\n",
     "output_type": "error",
     "traceback": [
      "\u001b[31m---------------------------------------------------------------------------\u001b[39m",
      "\u001b[31mInvalidColumnReference\u001b[39m                    Traceback (most recent call last)",
      "\u001b[36mCell\u001b[39m\u001b[36m \u001b[39m\u001b[32mIn[143]\u001b[39m\u001b[32m, line 1\u001b[39m\n\u001b[32m----> \u001b[39m\u001b[32m1\u001b[39m \u001b[43mcursor\u001b[49m\u001b[43m.\u001b[49m\u001b[43mexecutemany\u001b[49m\u001b[43m(\u001b[49m\u001b[43mmerge_query2\u001b[49m\u001b[43m,\u001b[49m\u001b[43m \u001b[49m\u001b[43mdata_institution\u001b[49m\u001b[43m)\u001b[49m\n\u001b[32m      2\u001b[39m conn.commit()\n",
      "\u001b[31mInvalidColumnReference\u001b[39m: there is no unique or exclusion constraint matching the ON CONFLICT specification\n"
     ]
    }
   ],
   "source": [
    "cursor.executemany(merge_query2, data_institution)\n",
    "conn.commit()"
   ]
  }
 ],
 "metadata": {
  "kernelspec": {
   "display_name": "venv",
   "language": "python",
   "name": "python3"
  },
  "language_info": {
   "codemirror_mode": {
    "name": "ipython",
    "version": 3
   },
   "file_extension": ".py",
   "mimetype": "text/x-python",
   "name": "python",
   "nbconvert_exporter": "python",
   "pygments_lexer": "ipython3",
   "version": "3.13.2"
  }
 },
 "nbformat": 4,
 "nbformat_minor": 2
}
