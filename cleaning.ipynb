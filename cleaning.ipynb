{
 "cells": [
  {
   "cell_type": "code",
   "execution_count": 116,
   "metadata": {},
   "outputs": [],
   "source": [
    "import pandas as pd"
   ]
  },
  {
   "cell_type": "code",
   "execution_count": 117,
   "metadata": {},
   "outputs": [],
   "source": [
    "raw_data = pd.read_csv(r'venv\\university_data.csv',encoding='latin1')"
   ]
  },
  {
   "cell_type": "code",
   "execution_count": 118,
   "metadata": {},
   "outputs": [
    {
     "name": "stdout",
     "output_type": "stream",
     "text": [
      "<class 'pandas.core.frame.DataFrame'>\n",
      "RangeIndex: 90 entries, 0 to 89\n",
      "Data columns (total 9 columns):\n",
      " #   Column                   Non-Null Count  Dtype \n",
      "---  ------                   --------------  ----- \n",
      " 0   Rank                     90 non-null     int64 \n",
      " 1   Institution              90 non-null     object\n",
      " 2   Location                 90 non-null     object\n",
      " 3   Continent                90 non-null     object\n",
      " 4   Founded                  90 non-null     object\n",
      " 5   Affiliation              90 non-null     object\n",
      " 6   Distance / In-Person[a]  90 non-null     object\n",
      " 7   Enrollment               90 non-null     object\n",
      " 8   Ref                      90 non-null     object\n",
      "dtypes: int64(1), object(8)\n",
      "memory usage: 6.5+ KB\n"
     ]
    }
   ],
   "source": [
    "raw_data.info()"
   ]
  },
  {
   "cell_type": "code",
   "execution_count": 119,
   "metadata": {},
   "outputs": [
    {
     "data": {
      "text/html": [
       "<div>\n",
       "<style scoped>\n",
       "    .dataframe tbody tr th:only-of-type {\n",
       "        vertical-align: middle;\n",
       "    }\n",
       "\n",
       "    .dataframe tbody tr th {\n",
       "        vertical-align: top;\n",
       "    }\n",
       "\n",
       "    .dataframe thead th {\n",
       "        text-align: right;\n",
       "    }\n",
       "</style>\n",
       "<table border=\"1\" class=\"dataframe\">\n",
       "  <thead>\n",
       "    <tr style=\"text-align: right;\">\n",
       "      <th></th>\n",
       "      <th>Rank</th>\n",
       "      <th>Institution</th>\n",
       "      <th>Location</th>\n",
       "      <th>Continent</th>\n",
       "      <th>Founded</th>\n",
       "      <th>Affiliation</th>\n",
       "      <th>Distance / In-Person[a]</th>\n",
       "      <th>Enrollment</th>\n",
       "      <th>Ref</th>\n",
       "    </tr>\n",
       "  </thead>\n",
       "  <tbody>\n",
       "    <tr>\n",
       "      <th>0</th>\n",
       "      <td>1</td>\n",
       "      <td>Indira Gandhi National Open University</td>\n",
       "      <td>New Delhi, India</td>\n",
       "      <td>Asia</td>\n",
       "      <td>1985</td>\n",
       "      <td>Public</td>\n",
       "      <td>Distance/In-Person</td>\n",
       "      <td>7,140,000+</td>\n",
       "      <td>https://en.wikipedia.org/wiki/Indira_Gandhi_Na...</td>\n",
       "    </tr>\n",
       "    <tr>\n",
       "      <th>1</th>\n",
       "      <td>2</td>\n",
       "      <td>National University, Bangladesh</td>\n",
       "      <td>Gazipur, Bangladesh</td>\n",
       "      <td>Asia</td>\n",
       "      <td>1992</td>\n",
       "      <td>Public</td>\n",
       "      <td>In-Person</td>\n",
       "      <td>3,425,832</td>\n",
       "      <td>https://en.wikipedia.org/wiki/Indira_Gandhi_Na...</td>\n",
       "    </tr>\n",
       "    <tr>\n",
       "      <th>2</th>\n",
       "      <td>3</td>\n",
       "      <td>Anadolu University</td>\n",
       "      <td>EskiÅehir, Turkey</td>\n",
       "      <td>Asia</td>\n",
       "      <td>1958</td>\n",
       "      <td>Public</td>\n",
       "      <td>Distance/In-Person</td>\n",
       "      <td>1,974,343</td>\n",
       "      <td>https://en.wikipedia.org/wiki/Indira_Gandhi_Na...</td>\n",
       "    </tr>\n",
       "    <tr>\n",
       "      <th>3</th>\n",
       "      <td>4</td>\n",
       "      <td>California Community Colleges</td>\n",
       "      <td>California, United States</td>\n",
       "      <td>North America</td>\n",
       "      <td>1967</td>\n",
       "      <td>Public</td>\n",
       "      <td>In-Person</td>\n",
       "      <td>1,800,000</td>\n",
       "      <td>https://en.wikipedia.org/wiki/Indira_Gandhi_Na...</td>\n",
       "    </tr>\n",
       "    <tr>\n",
       "      <th>4</th>\n",
       "      <td>5</td>\n",
       "      <td>Islamic Azad University</td>\n",
       "      <td>Iran</td>\n",
       "      <td>Asia</td>\n",
       "      <td>1982</td>\n",
       "      <td>Private</td>\n",
       "      <td>In-Person</td>\n",
       "      <td>1,778,000</td>\n",
       "      <td>https://en.wikipedia.org/wiki/Indira_Gandhi_Na...</td>\n",
       "    </tr>\n",
       "  </tbody>\n",
       "</table>\n",
       "</div>"
      ],
      "text/plain": [
       "   Rank                             Institution                   Location  \\\n",
       "0     1  Indira Gandhi National Open University           New Delhi, India   \n",
       "1     2         National University, Bangladesh        Gazipur, Bangladesh   \n",
       "2     3                      Anadolu University         EskiÅehir, Turkey   \n",
       "3     4           California Community Colleges  California, United States   \n",
       "4     5                 Islamic Azad University                       Iran   \n",
       "\n",
       "       Continent Founded Affiliation Distance / In-Person[a]  Enrollment  \\\n",
       "0           Asia    1985      Public      Distance/In-Person  7,140,000+   \n",
       "1           Asia    1992      Public               In-Person   3,425,832   \n",
       "2           Asia    1958      Public      Distance/In-Person   1,974,343   \n",
       "3  North America    1967      Public               In-Person   1,800,000   \n",
       "4           Asia    1982     Private               In-Person   1,778,000   \n",
       "\n",
       "                                                 Ref  \n",
       "0  https://en.wikipedia.org/wiki/Indira_Gandhi_Na...  \n",
       "1  https://en.wikipedia.org/wiki/Indira_Gandhi_Na...  \n",
       "2  https://en.wikipedia.org/wiki/Indira_Gandhi_Na...  \n",
       "3  https://en.wikipedia.org/wiki/Indira_Gandhi_Na...  \n",
       "4  https://en.wikipedia.org/wiki/Indira_Gandhi_Na...  "
      ]
     },
     "execution_count": 119,
     "metadata": {},
     "output_type": "execute_result"
    }
   ],
   "source": [
    "raw_data.head()"
   ]
  },
  {
   "cell_type": "code",
   "execution_count": 120,
   "metadata": {},
   "outputs": [
    {
     "data": {
      "text/plain": [
       "array(['1985', '1992', '1958', '1967', '1982', '1974', '1999', '1992',\n",
       "       '1984', '1948 and 2014', '1948', '1965', '1857', '1971', '2002',\n",
       "       '1857', '1959', '1882', '1982', '1954', '2007', '1922', '1987',\n",
       "       '1995', '1873', '1948', '1551', '1939', '1931', '1821', '1995',\n",
       "       '1918', '1972', '1998', '1908', '1869', '1961', '1789', '1881',\n",
       "       '1970', '1791', '1933', '1969', '1992', '1970', '1894', '1977',\n",
       "       '1976', '1965', '1936', '1538 (reopened 1914)', '1950', '1836',\n",
       "       '1932', '1862', '1848', '1956', '2009', '1972', '2000', '1991',\n",
       "       '1303', '1988', '1849', '1972', '1998', '1676', '2007', '1990',\n",
       "       '1876', '1613', '1982', '1971', '1229', '1968', '2002', '1995',\n",
       "       '1808', '1365', '1943', '1827', '1925', '1904', '1293', '2012',\n",
       "       '1409', '1974', '1878', '1908', '1980'], dtype=object)"
      ]
     },
     "execution_count": 120,
     "metadata": {},
     "output_type": "execute_result"
    }
   ],
   "source": [
    "raw_data['Founded'].values"
   ]
  },
  {
   "cell_type": "code",
   "execution_count": 121,
   "metadata": {},
   "outputs": [],
   "source": [
    "raw_data['Founded']= raw_data['Founded'].str.extract(r'(\\d+)')"
   ]
  },
  {
   "cell_type": "code",
   "execution_count": 122,
   "metadata": {},
   "outputs": [
    {
     "data": {
      "text/plain": [
       "array(['1985', '1992', '1958', '1967', '1982', '1974', '1999', '1992',\n",
       "       '1984', '1948', '1948', '1965', '1857', '1971', '2002', '1857',\n",
       "       '1959', '1882', '1982', '1954', '2007', '1922', '1987', '1995',\n",
       "       '1873', '1948', '1551', '1939', '1931', '1821', '1995', '1918',\n",
       "       '1972', '1998', '1908', '1869', '1961', '1789', '1881', '1970',\n",
       "       '1791', '1933', '1969', '1992', '1970', '1894', '1977', '1976',\n",
       "       '1965', '1936', '1538', '1950', '1836', '1932', '1862', '1848',\n",
       "       '1956', '2009', '1972', '2000', '1991', '1303', '1988', '1849',\n",
       "       '1972', '1998', '1676', '2007', '1990', '1876', '1613', '1982',\n",
       "       '1971', '1229', '1968', '2002', '1995', '1808', '1365', '1943',\n",
       "       '1827', '1925', '1904', '1293', '2012', '1409', '1974', '1878',\n",
       "       '1908', '1980'], dtype=object)"
      ]
     },
     "execution_count": 122,
     "metadata": {},
     "output_type": "execute_result"
    }
   ],
   "source": [
    "raw_data['Founded'].values"
   ]
  },
  {
   "cell_type": "code",
   "execution_count": 123,
   "metadata": {},
   "outputs": [
    {
     "data": {
      "text/plain": [
       "array(['7,140,000+', '3,425,832', '1,974,343', '1,800,000', '1,778,000',\n",
       "       '1,027,000', '875,000', '650,000', '646,467', '620,000 (2019)',\n",
       "       '665,000', '560,000[citation needed]', '549,432', '525,000',\n",
       "       '515,000', '457,992', '454,065 (2021/22)', '450,000', '450,000',\n",
       "       '430,000', '429,310', '700,000', '400,000', '390,000', '370 000',\n",
       "       '363,612', '356,530', '350,000', '318,027', '316,050', '300,000',\n",
       "       '300,000', '260,079', '260,000', '257,200', '256,000', '243,000',\n",
       "       '242,000', '221,337', '215,000', '209,406', '206,000', '205,420',\n",
       "       '200,000', '191,567', '189,351', '180,000', '177,234', '175,000',\n",
       "       '171,581', '170,530', '170,000 (Undergraduates Only)', '170,000',\n",
       "       '170,000', '163,786', '162,933', '160,957', '152,000', '151,413',\n",
       "       '150,000', '150,000', '147,000', '144,363', '144,108', '130,000',\n",
       "       '130,000', '124,000', '120,000', '116,782', '114,691', '113,558',\n",
       "       '110,428', '110,000', '110,000', '101,915', '100,000', '98,648',\n",
       "       '97,696', '91,715', '91,200', '88,766', '88,283', '83,328',\n",
       "       '83,000', '80,000', '80,000', '69,982', '67,109', '64,144',\n",
       "       '60,000'], dtype=object)"
      ]
     },
     "execution_count": 123,
     "metadata": {},
     "output_type": "execute_result"
    }
   ],
   "source": [
    "raw_data['Enrollment'].values"
   ]
  },
  {
   "cell_type": "code",
   "execution_count": 124,
   "metadata": {},
   "outputs": [],
   "source": [
    "raw_data['Enrollment']=raw_data['Enrollment'].str.replace(r'\\(.*?\\)',\"\",regex=True).replace(r'\\[.*?\\]',\"\",regex=True).str.replace('+', \"\")"
   ]
  },
  {
   "cell_type": "code",
   "execution_count": 125,
   "metadata": {},
   "outputs": [
    {
     "data": {
      "text/plain": [
       "array(['7,140,000', '3,425,832', '1,974,343', '1,800,000', '1,778,000',\n",
       "       '1,027,000', '875,000', '650,000', '646,467', '620,000 ',\n",
       "       '665,000', '560,000', '549,432', '525,000', '515,000', '457,992',\n",
       "       '454,065 ', '450,000', '450,000', '430,000', '429,310', '700,000',\n",
       "       '400,000', '390,000', '370 000', '363,612', '356,530', '350,000',\n",
       "       '318,027', '316,050', '300,000', '300,000', '260,079', '260,000',\n",
       "       '257,200', '256,000', '243,000', '242,000', '221,337', '215,000',\n",
       "       '209,406', '206,000', '205,420', '200,000', '191,567', '189,351',\n",
       "       '180,000', '177,234', '175,000', '171,581', '170,530', '170,000 ',\n",
       "       '170,000', '170,000', '163,786', '162,933', '160,957', '152,000',\n",
       "       '151,413', '150,000', '150,000', '147,000', '144,363', '144,108',\n",
       "       '130,000', '130,000', '124,000', '120,000', '116,782', '114,691',\n",
       "       '113,558', '110,428', '110,000', '110,000', '101,915', '100,000',\n",
       "       '98,648', '97,696', '91,715', '91,200', '88,766', '88,283',\n",
       "       '83,328', '83,000', '80,000', '80,000', '69,982', '67,109',\n",
       "       '64,144', '60,000'], dtype=object)"
      ]
     },
     "execution_count": 125,
     "metadata": {},
     "output_type": "execute_result"
    }
   ],
   "source": [
    "raw_data['Enrollment'].values"
   ]
  },
  {
   "cell_type": "code",
   "execution_count": 126,
   "metadata": {},
   "outputs": [
    {
     "data": {
      "text/html": [
       "<div>\n",
       "<style scoped>\n",
       "    .dataframe tbody tr th:only-of-type {\n",
       "        vertical-align: middle;\n",
       "    }\n",
       "\n",
       "    .dataframe tbody tr th {\n",
       "        vertical-align: top;\n",
       "    }\n",
       "\n",
       "    .dataframe thead th {\n",
       "        text-align: right;\n",
       "    }\n",
       "</style>\n",
       "<table border=\"1\" class=\"dataframe\">\n",
       "  <thead>\n",
       "    <tr style=\"text-align: right;\">\n",
       "      <th></th>\n",
       "      <th>Rank</th>\n",
       "      <th>Institution</th>\n",
       "      <th>Location</th>\n",
       "      <th>Continent</th>\n",
       "      <th>Founded</th>\n",
       "      <th>Affiliation</th>\n",
       "      <th>Distance / In-Person[a]</th>\n",
       "      <th>Enrollment</th>\n",
       "      <th>Ref</th>\n",
       "    </tr>\n",
       "  </thead>\n",
       "  <tbody>\n",
       "    <tr>\n",
       "      <th>0</th>\n",
       "      <td>1</td>\n",
       "      <td>Indira Gandhi National Open University</td>\n",
       "      <td>New Delhi, India</td>\n",
       "      <td>Asia</td>\n",
       "      <td>1985</td>\n",
       "      <td>Public</td>\n",
       "      <td>Distance/In-Person</td>\n",
       "      <td>7,140,000</td>\n",
       "      <td>https://en.wikipedia.org/wiki/Indira_Gandhi_Na...</td>\n",
       "    </tr>\n",
       "    <tr>\n",
       "      <th>1</th>\n",
       "      <td>2</td>\n",
       "      <td>National University, Bangladesh</td>\n",
       "      <td>Gazipur, Bangladesh</td>\n",
       "      <td>Asia</td>\n",
       "      <td>1992</td>\n",
       "      <td>Public</td>\n",
       "      <td>In-Person</td>\n",
       "      <td>3,425,832</td>\n",
       "      <td>https://en.wikipedia.org/wiki/Indira_Gandhi_Na...</td>\n",
       "    </tr>\n",
       "    <tr>\n",
       "      <th>2</th>\n",
       "      <td>3</td>\n",
       "      <td>Anadolu University</td>\n",
       "      <td>EskiÅehir, Turkey</td>\n",
       "      <td>Asia</td>\n",
       "      <td>1958</td>\n",
       "      <td>Public</td>\n",
       "      <td>Distance/In-Person</td>\n",
       "      <td>1,974,343</td>\n",
       "      <td>https://en.wikipedia.org/wiki/Indira_Gandhi_Na...</td>\n",
       "    </tr>\n",
       "    <tr>\n",
       "      <th>3</th>\n",
       "      <td>4</td>\n",
       "      <td>California Community Colleges</td>\n",
       "      <td>California, United States</td>\n",
       "      <td>North America</td>\n",
       "      <td>1967</td>\n",
       "      <td>Public</td>\n",
       "      <td>In-Person</td>\n",
       "      <td>1,800,000</td>\n",
       "      <td>https://en.wikipedia.org/wiki/Indira_Gandhi_Na...</td>\n",
       "    </tr>\n",
       "    <tr>\n",
       "      <th>4</th>\n",
       "      <td>5</td>\n",
       "      <td>Islamic Azad University</td>\n",
       "      <td>Iran</td>\n",
       "      <td>Asia</td>\n",
       "      <td>1982</td>\n",
       "      <td>Private</td>\n",
       "      <td>In-Person</td>\n",
       "      <td>1,778,000</td>\n",
       "      <td>https://en.wikipedia.org/wiki/Indira_Gandhi_Na...</td>\n",
       "    </tr>\n",
       "  </tbody>\n",
       "</table>\n",
       "</div>"
      ],
      "text/plain": [
       "   Rank                             Institution                   Location  \\\n",
       "0     1  Indira Gandhi National Open University           New Delhi, India   \n",
       "1     2         National University, Bangladesh        Gazipur, Bangladesh   \n",
       "2     3                      Anadolu University         EskiÅehir, Turkey   \n",
       "3     4           California Community Colleges  California, United States   \n",
       "4     5                 Islamic Azad University                       Iran   \n",
       "\n",
       "       Continent Founded Affiliation Distance / In-Person[a] Enrollment  \\\n",
       "0           Asia    1985      Public      Distance/In-Person  7,140,000   \n",
       "1           Asia    1992      Public               In-Person  3,425,832   \n",
       "2           Asia    1958      Public      Distance/In-Person  1,974,343   \n",
       "3  North America    1967      Public               In-Person  1,800,000   \n",
       "4           Asia    1982     Private               In-Person  1,778,000   \n",
       "\n",
       "                                                 Ref  \n",
       "0  https://en.wikipedia.org/wiki/Indira_Gandhi_Na...  \n",
       "1  https://en.wikipedia.org/wiki/Indira_Gandhi_Na...  \n",
       "2  https://en.wikipedia.org/wiki/Indira_Gandhi_Na...  \n",
       "3  https://en.wikipedia.org/wiki/Indira_Gandhi_Na...  \n",
       "4  https://en.wikipedia.org/wiki/Indira_Gandhi_Na...  "
      ]
     },
     "execution_count": 126,
     "metadata": {},
     "output_type": "execute_result"
    }
   ],
   "source": [
    "raw_data.head()"
   ]
  },
  {
   "cell_type": "code",
   "execution_count": 127,
   "metadata": {},
   "outputs": [],
   "source": [
    "raw_data['Enrollment']=raw_data['Enrollment'].str.replace(',','').str.replace(' ','')"
   ]
  },
  {
   "cell_type": "code",
   "execution_count": 128,
   "metadata": {},
   "outputs": [
    {
     "data": {
      "text/plain": [
       "array(['7140000', '3425832', '1974343', '1800000', '1778000', '1027000',\n",
       "       '875000', '650000', '646467', '620000', '665000', '560000',\n",
       "       '549432', '525000', '515000', '457992', '454065', '450000',\n",
       "       '450000', '430000', '429310', '700000', '400000', '390000',\n",
       "       '370000', '363612', '356530', '350000', '318027', '316050',\n",
       "       '300000', '300000', '260079', '260000', '257200', '256000',\n",
       "       '243000', '242000', '221337', '215000', '209406', '206000',\n",
       "       '205420', '200000', '191567', '189351', '180000', '177234',\n",
       "       '175000', '171581', '170530', '170000', '170000', '170000',\n",
       "       '163786', '162933', '160957', '152000', '151413', '150000',\n",
       "       '150000', '147000', '144363', '144108', '130000', '130000',\n",
       "       '124000', '120000', '116782', '114691', '113558', '110428',\n",
       "       '110000', '110000', '101915', '100000', '98648', '97696', '91715',\n",
       "       '91200', '88766', '88283', '83328', '83000', '80000', '80000',\n",
       "       '69982', '67109', '64144', '60000'], dtype=object)"
      ]
     },
     "execution_count": 128,
     "metadata": {},
     "output_type": "execute_result"
    }
   ],
   "source": [
    "raw_data['Enrollment'].values"
   ]
  },
  {
   "cell_type": "code",
   "execution_count": 129,
   "metadata": {},
   "outputs": [],
   "source": [
    "raw_data['Founded']= raw_data['Founded'].astype('int')\n",
    "\n",
    "raw_data['Enrollment']= raw_data['Enrollment'].astype('int')"
   ]
  },
  {
   "cell_type": "code",
   "execution_count": 130,
   "metadata": {},
   "outputs": [],
   "source": [
    "#df['last_word'] = df['text'].str.split(',').str[-1].str.strip()\n",
    "raw_data['Country']=raw_data['Location'].str.split(',').str[-1].str.strip()"
   ]
  },
  {
   "cell_type": "code",
   "execution_count": 131,
   "metadata": {},
   "outputs": [
    {
     "data": {
      "text/html": [
       "<div>\n",
       "<style scoped>\n",
       "    .dataframe tbody tr th:only-of-type {\n",
       "        vertical-align: middle;\n",
       "    }\n",
       "\n",
       "    .dataframe tbody tr th {\n",
       "        vertical-align: top;\n",
       "    }\n",
       "\n",
       "    .dataframe thead th {\n",
       "        text-align: right;\n",
       "    }\n",
       "</style>\n",
       "<table border=\"1\" class=\"dataframe\">\n",
       "  <thead>\n",
       "    <tr style=\"text-align: right;\">\n",
       "      <th></th>\n",
       "      <th>Rank</th>\n",
       "      <th>Institution</th>\n",
       "      <th>Location</th>\n",
       "      <th>Continent</th>\n",
       "      <th>Founded</th>\n",
       "      <th>Affiliation</th>\n",
       "      <th>Distance / In-Person[a]</th>\n",
       "      <th>Enrollment</th>\n",
       "      <th>Ref</th>\n",
       "      <th>Country</th>\n",
       "    </tr>\n",
       "  </thead>\n",
       "  <tbody>\n",
       "    <tr>\n",
       "      <th>0</th>\n",
       "      <td>1</td>\n",
       "      <td>Indira Gandhi National Open University</td>\n",
       "      <td>New Delhi, India</td>\n",
       "      <td>Asia</td>\n",
       "      <td>1985</td>\n",
       "      <td>Public</td>\n",
       "      <td>Distance/In-Person</td>\n",
       "      <td>7140000</td>\n",
       "      <td>https://en.wikipedia.org/wiki/Indira_Gandhi_Na...</td>\n",
       "      <td>India</td>\n",
       "    </tr>\n",
       "    <tr>\n",
       "      <th>1</th>\n",
       "      <td>2</td>\n",
       "      <td>National University, Bangladesh</td>\n",
       "      <td>Gazipur, Bangladesh</td>\n",
       "      <td>Asia</td>\n",
       "      <td>1992</td>\n",
       "      <td>Public</td>\n",
       "      <td>In-Person</td>\n",
       "      <td>3425832</td>\n",
       "      <td>https://en.wikipedia.org/wiki/Indira_Gandhi_Na...</td>\n",
       "      <td>Bangladesh</td>\n",
       "    </tr>\n",
       "    <tr>\n",
       "      <th>2</th>\n",
       "      <td>3</td>\n",
       "      <td>Anadolu University</td>\n",
       "      <td>EskiÅehir, Turkey</td>\n",
       "      <td>Asia</td>\n",
       "      <td>1958</td>\n",
       "      <td>Public</td>\n",
       "      <td>Distance/In-Person</td>\n",
       "      <td>1974343</td>\n",
       "      <td>https://en.wikipedia.org/wiki/Indira_Gandhi_Na...</td>\n",
       "      <td>Turkey</td>\n",
       "    </tr>\n",
       "    <tr>\n",
       "      <th>3</th>\n",
       "      <td>4</td>\n",
       "      <td>California Community Colleges</td>\n",
       "      <td>California, United States</td>\n",
       "      <td>North America</td>\n",
       "      <td>1967</td>\n",
       "      <td>Public</td>\n",
       "      <td>In-Person</td>\n",
       "      <td>1800000</td>\n",
       "      <td>https://en.wikipedia.org/wiki/Indira_Gandhi_Na...</td>\n",
       "      <td>United States</td>\n",
       "    </tr>\n",
       "    <tr>\n",
       "      <th>4</th>\n",
       "      <td>5</td>\n",
       "      <td>Islamic Azad University</td>\n",
       "      <td>Iran</td>\n",
       "      <td>Asia</td>\n",
       "      <td>1982</td>\n",
       "      <td>Private</td>\n",
       "      <td>In-Person</td>\n",
       "      <td>1778000</td>\n",
       "      <td>https://en.wikipedia.org/wiki/Indira_Gandhi_Na...</td>\n",
       "      <td>Iran</td>\n",
       "    </tr>\n",
       "  </tbody>\n",
       "</table>\n",
       "</div>"
      ],
      "text/plain": [
       "   Rank                             Institution                   Location  \\\n",
       "0     1  Indira Gandhi National Open University           New Delhi, India   \n",
       "1     2         National University, Bangladesh        Gazipur, Bangladesh   \n",
       "2     3                      Anadolu University         EskiÅehir, Turkey   \n",
       "3     4           California Community Colleges  California, United States   \n",
       "4     5                 Islamic Azad University                       Iran   \n",
       "\n",
       "       Continent  Founded Affiliation Distance / In-Person[a]  Enrollment  \\\n",
       "0           Asia     1985      Public      Distance/In-Person     7140000   \n",
       "1           Asia     1992      Public               In-Person     3425832   \n",
       "2           Asia     1958      Public      Distance/In-Person     1974343   \n",
       "3  North America     1967      Public               In-Person     1800000   \n",
       "4           Asia     1982     Private               In-Person     1778000   \n",
       "\n",
       "                                                 Ref        Country  \n",
       "0  https://en.wikipedia.org/wiki/Indira_Gandhi_Na...          India  \n",
       "1  https://en.wikipedia.org/wiki/Indira_Gandhi_Na...     Bangladesh  \n",
       "2  https://en.wikipedia.org/wiki/Indira_Gandhi_Na...         Turkey  \n",
       "3  https://en.wikipedia.org/wiki/Indira_Gandhi_Na...  United States  \n",
       "4  https://en.wikipedia.org/wiki/Indira_Gandhi_Na...           Iran  "
      ]
     },
     "execution_count": 131,
     "metadata": {},
     "output_type": "execute_result"
    }
   ],
   "source": [
    "raw_data.head()"
   ]
  },
  {
   "cell_type": "code",
   "execution_count": 132,
   "metadata": {},
   "outputs": [
    {
     "data": {
      "text/plain": [
       "0      New Delhi\n",
       "1        Gazipur\n",
       "2     EskiÅehir\n",
       "3     California\n",
       "4               \n",
       "         ...    \n",
       "85     Marseille\n",
       "86         Hagen\n",
       "87              \n",
       "88              \n",
       "89              \n",
       "Name: City, Length: 90, dtype: object"
      ]
     },
     "execution_count": 132,
     "metadata": {},
     "output_type": "execute_result"
    }
   ],
   "source": [
    "#df['all_but_last'] = df['text'].str.split(',').apply(lambda x: ', '.join(x[:-1])).str.strip()\n",
    "\n",
    "raw_data['City']=raw_data['Location'].str.split(',').apply(lambda x: ', '.join(x[:-1])).str.strip()\n",
    "raw_data['City']"
   ]
  },
  {
   "cell_type": "code",
   "execution_count": 133,
   "metadata": {},
   "outputs": [
    {
     "data": {
      "text/html": [
       "<div>\n",
       "<style scoped>\n",
       "    .dataframe tbody tr th:only-of-type {\n",
       "        vertical-align: middle;\n",
       "    }\n",
       "\n",
       "    .dataframe tbody tr th {\n",
       "        vertical-align: top;\n",
       "    }\n",
       "\n",
       "    .dataframe thead th {\n",
       "        text-align: right;\n",
       "    }\n",
       "</style>\n",
       "<table border=\"1\" class=\"dataframe\">\n",
       "  <thead>\n",
       "    <tr style=\"text-align: right;\">\n",
       "      <th></th>\n",
       "      <th>Rank</th>\n",
       "      <th>Institution</th>\n",
       "      <th>Location</th>\n",
       "      <th>Continent</th>\n",
       "      <th>Founded</th>\n",
       "      <th>Affiliation</th>\n",
       "      <th>Distance / In-Person[a]</th>\n",
       "      <th>Enrollment</th>\n",
       "      <th>Ref</th>\n",
       "      <th>Country</th>\n",
       "      <th>City</th>\n",
       "    </tr>\n",
       "  </thead>\n",
       "  <tbody>\n",
       "    <tr>\n",
       "      <th>0</th>\n",
       "      <td>1</td>\n",
       "      <td>Indira Gandhi National Open University</td>\n",
       "      <td>New Delhi, India</td>\n",
       "      <td>Asia</td>\n",
       "      <td>1985</td>\n",
       "      <td>Public</td>\n",
       "      <td>Distance/In-Person</td>\n",
       "      <td>7140000</td>\n",
       "      <td>https://en.wikipedia.org/wiki/Indira_Gandhi_Na...</td>\n",
       "      <td>India</td>\n",
       "      <td>New Delhi</td>\n",
       "    </tr>\n",
       "    <tr>\n",
       "      <th>1</th>\n",
       "      <td>2</td>\n",
       "      <td>National University, Bangladesh</td>\n",
       "      <td>Gazipur, Bangladesh</td>\n",
       "      <td>Asia</td>\n",
       "      <td>1992</td>\n",
       "      <td>Public</td>\n",
       "      <td>In-Person</td>\n",
       "      <td>3425832</td>\n",
       "      <td>https://en.wikipedia.org/wiki/Indira_Gandhi_Na...</td>\n",
       "      <td>Bangladesh</td>\n",
       "      <td>Gazipur</td>\n",
       "    </tr>\n",
       "    <tr>\n",
       "      <th>2</th>\n",
       "      <td>3</td>\n",
       "      <td>Anadolu University</td>\n",
       "      <td>EskiÅehir, Turkey</td>\n",
       "      <td>Asia</td>\n",
       "      <td>1958</td>\n",
       "      <td>Public</td>\n",
       "      <td>Distance/In-Person</td>\n",
       "      <td>1974343</td>\n",
       "      <td>https://en.wikipedia.org/wiki/Indira_Gandhi_Na...</td>\n",
       "      <td>Turkey</td>\n",
       "      <td>EskiÅehir</td>\n",
       "    </tr>\n",
       "    <tr>\n",
       "      <th>3</th>\n",
       "      <td>4</td>\n",
       "      <td>California Community Colleges</td>\n",
       "      <td>California, United States</td>\n",
       "      <td>North America</td>\n",
       "      <td>1967</td>\n",
       "      <td>Public</td>\n",
       "      <td>In-Person</td>\n",
       "      <td>1800000</td>\n",
       "      <td>https://en.wikipedia.org/wiki/Indira_Gandhi_Na...</td>\n",
       "      <td>United States</td>\n",
       "      <td>California</td>\n",
       "    </tr>\n",
       "    <tr>\n",
       "      <th>4</th>\n",
       "      <td>5</td>\n",
       "      <td>Islamic Azad University</td>\n",
       "      <td>Iran</td>\n",
       "      <td>Asia</td>\n",
       "      <td>1982</td>\n",
       "      <td>Private</td>\n",
       "      <td>In-Person</td>\n",
       "      <td>1778000</td>\n",
       "      <td>https://en.wikipedia.org/wiki/Indira_Gandhi_Na...</td>\n",
       "      <td>Iran</td>\n",
       "      <td></td>\n",
       "    </tr>\n",
       "  </tbody>\n",
       "</table>\n",
       "</div>"
      ],
      "text/plain": [
       "   Rank                             Institution                   Location  \\\n",
       "0     1  Indira Gandhi National Open University           New Delhi, India   \n",
       "1     2         National University, Bangladesh        Gazipur, Bangladesh   \n",
       "2     3                      Anadolu University         EskiÅehir, Turkey   \n",
       "3     4           California Community Colleges  California, United States   \n",
       "4     5                 Islamic Azad University                       Iran   \n",
       "\n",
       "       Continent  Founded Affiliation Distance / In-Person[a]  Enrollment  \\\n",
       "0           Asia     1985      Public      Distance/In-Person     7140000   \n",
       "1           Asia     1992      Public               In-Person     3425832   \n",
       "2           Asia     1958      Public      Distance/In-Person     1974343   \n",
       "3  North America     1967      Public               In-Person     1800000   \n",
       "4           Asia     1982     Private               In-Person     1778000   \n",
       "\n",
       "                                                 Ref        Country  \\\n",
       "0  https://en.wikipedia.org/wiki/Indira_Gandhi_Na...          India   \n",
       "1  https://en.wikipedia.org/wiki/Indira_Gandhi_Na...     Bangladesh   \n",
       "2  https://en.wikipedia.org/wiki/Indira_Gandhi_Na...         Turkey   \n",
       "3  https://en.wikipedia.org/wiki/Indira_Gandhi_Na...  United States   \n",
       "4  https://en.wikipedia.org/wiki/Indira_Gandhi_Na...           Iran   \n",
       "\n",
       "         City  \n",
       "0   New Delhi  \n",
       "1     Gazipur  \n",
       "2  EskiÅehir  \n",
       "3  California  \n",
       "4              "
      ]
     },
     "execution_count": 133,
     "metadata": {},
     "output_type": "execute_result"
    }
   ],
   "source": [
    "raw_data.head()"
   ]
  },
  {
   "cell_type": "code",
   "execution_count": 134,
   "metadata": {},
   "outputs": [],
   "source": [
    "raw_data.drop('Location',axis=1,inplace=True)"
   ]
  },
  {
   "cell_type": "code",
   "execution_count": 135,
   "metadata": {},
   "outputs": [
    {
     "data": {
      "text/html": [
       "<div>\n",
       "<style scoped>\n",
       "    .dataframe tbody tr th:only-of-type {\n",
       "        vertical-align: middle;\n",
       "    }\n",
       "\n",
       "    .dataframe tbody tr th {\n",
       "        vertical-align: top;\n",
       "    }\n",
       "\n",
       "    .dataframe thead th {\n",
       "        text-align: right;\n",
       "    }\n",
       "</style>\n",
       "<table border=\"1\" class=\"dataframe\">\n",
       "  <thead>\n",
       "    <tr style=\"text-align: right;\">\n",
       "      <th></th>\n",
       "      <th>Rank</th>\n",
       "      <th>Institution</th>\n",
       "      <th>Continent</th>\n",
       "      <th>Founded</th>\n",
       "      <th>Affiliation</th>\n",
       "      <th>Distance / In-Person[a]</th>\n",
       "      <th>Enrollment</th>\n",
       "      <th>Ref</th>\n",
       "      <th>Country</th>\n",
       "      <th>City</th>\n",
       "    </tr>\n",
       "  </thead>\n",
       "  <tbody>\n",
       "    <tr>\n",
       "      <th>0</th>\n",
       "      <td>1</td>\n",
       "      <td>Indira Gandhi National Open University</td>\n",
       "      <td>Asia</td>\n",
       "      <td>1985</td>\n",
       "      <td>Public</td>\n",
       "      <td>Distance/In-Person</td>\n",
       "      <td>7140000</td>\n",
       "      <td>https://en.wikipedia.org/wiki/Indira_Gandhi_Na...</td>\n",
       "      <td>India</td>\n",
       "      <td>New Delhi</td>\n",
       "    </tr>\n",
       "    <tr>\n",
       "      <th>1</th>\n",
       "      <td>2</td>\n",
       "      <td>National University, Bangladesh</td>\n",
       "      <td>Asia</td>\n",
       "      <td>1992</td>\n",
       "      <td>Public</td>\n",
       "      <td>In-Person</td>\n",
       "      <td>3425832</td>\n",
       "      <td>https://en.wikipedia.org/wiki/Indira_Gandhi_Na...</td>\n",
       "      <td>Bangladesh</td>\n",
       "      <td>Gazipur</td>\n",
       "    </tr>\n",
       "    <tr>\n",
       "      <th>2</th>\n",
       "      <td>3</td>\n",
       "      <td>Anadolu University</td>\n",
       "      <td>Asia</td>\n",
       "      <td>1958</td>\n",
       "      <td>Public</td>\n",
       "      <td>Distance/In-Person</td>\n",
       "      <td>1974343</td>\n",
       "      <td>https://en.wikipedia.org/wiki/Indira_Gandhi_Na...</td>\n",
       "      <td>Turkey</td>\n",
       "      <td>EskiÅehir</td>\n",
       "    </tr>\n",
       "    <tr>\n",
       "      <th>3</th>\n",
       "      <td>4</td>\n",
       "      <td>California Community Colleges</td>\n",
       "      <td>North America</td>\n",
       "      <td>1967</td>\n",
       "      <td>Public</td>\n",
       "      <td>In-Person</td>\n",
       "      <td>1800000</td>\n",
       "      <td>https://en.wikipedia.org/wiki/Indira_Gandhi_Na...</td>\n",
       "      <td>United States</td>\n",
       "      <td>California</td>\n",
       "    </tr>\n",
       "    <tr>\n",
       "      <th>4</th>\n",
       "      <td>5</td>\n",
       "      <td>Islamic Azad University</td>\n",
       "      <td>Asia</td>\n",
       "      <td>1982</td>\n",
       "      <td>Private</td>\n",
       "      <td>In-Person</td>\n",
       "      <td>1778000</td>\n",
       "      <td>https://en.wikipedia.org/wiki/Indira_Gandhi_Na...</td>\n",
       "      <td>Iran</td>\n",
       "      <td></td>\n",
       "    </tr>\n",
       "  </tbody>\n",
       "</table>\n",
       "</div>"
      ],
      "text/plain": [
       "   Rank                             Institution      Continent  Founded  \\\n",
       "0     1  Indira Gandhi National Open University           Asia     1985   \n",
       "1     2         National University, Bangladesh           Asia     1992   \n",
       "2     3                      Anadolu University           Asia     1958   \n",
       "3     4           California Community Colleges  North America     1967   \n",
       "4     5                 Islamic Azad University           Asia     1982   \n",
       "\n",
       "  Affiliation Distance / In-Person[a]  Enrollment  \\\n",
       "0      Public      Distance/In-Person     7140000   \n",
       "1      Public               In-Person     3425832   \n",
       "2      Public      Distance/In-Person     1974343   \n",
       "3      Public               In-Person     1800000   \n",
       "4     Private               In-Person     1778000   \n",
       "\n",
       "                                                 Ref        Country  \\\n",
       "0  https://en.wikipedia.org/wiki/Indira_Gandhi_Na...          India   \n",
       "1  https://en.wikipedia.org/wiki/Indira_Gandhi_Na...     Bangladesh   \n",
       "2  https://en.wikipedia.org/wiki/Indira_Gandhi_Na...         Turkey   \n",
       "3  https://en.wikipedia.org/wiki/Indira_Gandhi_Na...  United States   \n",
       "4  https://en.wikipedia.org/wiki/Indira_Gandhi_Na...           Iran   \n",
       "\n",
       "         City  \n",
       "0   New Delhi  \n",
       "1     Gazipur  \n",
       "2  EskiÅehir  \n",
       "3  California  \n",
       "4              "
      ]
     },
     "execution_count": 135,
     "metadata": {},
     "output_type": "execute_result"
    }
   ],
   "source": [
    "raw_data.head()"
   ]
  },
  {
   "cell_type": "code",
   "execution_count": 136,
   "metadata": {},
   "outputs": [
    {
     "data": {
      "text/plain": [
       "Index(['Rank', 'Institution', 'Continent', 'Founded', 'Affiliation',\n",
       "       'Distance / In-Person[a]', 'Enrollment', 'Ref', 'Country', 'City'],\n",
       "      dtype='object')"
      ]
     },
     "execution_count": 136,
     "metadata": {},
     "output_type": "execute_result"
    }
   ],
   "source": [
    "raw_data.columns"
   ]
  },
  {
   "cell_type": "code",
   "execution_count": 145,
   "metadata": {},
   "outputs": [
    {
     "data": {
      "text/plain": [
       "Index(['rank', 'institution', 'year_founded', 'affiliation', 'delivery_method',\n",
       "       'enrollment', 'city', 'country', 'continent', 'link'],\n",
       "      dtype='object')"
      ]
     },
     "execution_count": 145,
     "metadata": {},
     "output_type": "execute_result"
    }
   ],
   "source": [
    "new_column=['rank', 'institution', 'year_founded', 'affiliation','delivery_method', 'enrollment', 'city', 'country', 'continent', 'link']\n",
    "raw_data.columns=new_column\n",
    "raw_data.columns"
   ]
  },
  {
   "cell_type": "code",
   "execution_count": 150,
   "metadata": {},
   "outputs": [],
   "source": [
    "raw_data['delivery_method'] = raw_data['delivery_method'].str.strip().str.lower()\n",
    "\n",
    "# Replace patterns to group into 3 main options\n",
    "raw_data['delivery_method'] = raw_data['delivery_method'] .replace({\n",
    "    r'.*distance.*in.*person.*': 'Hybrid',\n",
    "    r'.*in[\\s-]*person.*': 'In-Person',\n",
    "    r'.*distance.*': 'Distance'\n",
    "}, regex=True)\n",
    "\n",
    "# Capitalize final values\n",
    "raw_data['delivery_method']  = raw_data['delivery_method'] .str.title()\n"
   ]
  },
  {
   "cell_type": "code",
   "execution_count": 151,
   "metadata": {},
   "outputs": [
    {
     "data": {
      "text/plain": [
       "array(['Hybrid', 'In-Person', 'Distance'], dtype=object)"
      ]
     },
     "execution_count": 151,
     "metadata": {},
     "output_type": "execute_result"
    }
   ],
   "source": [
    "raw_data['delivery_method'].unique()"
   ]
  },
  {
   "cell_type": "code",
   "execution_count": 154,
   "metadata": {},
   "outputs": [],
   "source": [
    "raw_data.to_csv('cleaned_university_data.csv',index=False)"
   ]
  }
 ],
 "metadata": {
  "kernelspec": {
   "display_name": "venv",
   "language": "python",
   "name": "python3"
  },
  "language_info": {
   "codemirror_mode": {
    "name": "ipython",
    "version": 3
   },
   "file_extension": ".py",
   "mimetype": "text/x-python",
   "name": "python",
   "nbconvert_exporter": "python",
   "pygments_lexer": "ipython3",
   "version": "3.13.2"
  }
 },
 "nbformat": 4,
 "nbformat_minor": 2
}
